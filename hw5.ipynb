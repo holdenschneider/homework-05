{
  "cells": [
    {
      "cell_type": "markdown",
      "metadata": {},
      "source": [
        "---\n",
        "title: Homework 5\n",
        "jupyter: python3\n",
        "---\n",
        "\n",
        "\n",
        "This assignment will continue to use the American Community Survey (ACS) from the US Census.\n",
        "You will need to refer to the documentation to know what the ACS variable names mean. You can find a copy of the codebook in the [Lab 4 folder on Google Drive](https://drive.google.com/drive/u/0/folders/1jkY0mTxBhwOvvCJE_CJ3LWiOr_9V1ojZ)\n"
      ]
    },
    {
      "cell_type": "code",
      "execution_count": 1,
      "metadata": {},
      "outputs": [],
      "source": [
        "import warnings\n",
        "warnings.simplefilter(action='ignore', category=FutureWarning)\n",
        "\n",
        "import pandas as pd\n",
        "import numpy as np\n",
        "import seaborn as sb\n",
        "import matplotlib.pyplot as plt\n",
        "pd.options.mode.chained_assignment = None"
      ]
    },
    {
      "cell_type": "code",
      "execution_count": 2,
      "metadata": {},
      "outputs": [],
      "source": [
        "acs = pd.read_csv(\"./pums_short.csv.gz\")"
      ]
    },
    {
      "cell_type": "markdown",
      "metadata": {},
      "source": [
        "## Question 1: Working with missing data\n",
        "\n",
        "### Q1.a\n",
        "\n",
        "In the previous lab we counted the number of missing values for the `\"RNTP\"` column using"
      ]
    },
    {
      "cell_type": "code",
      "execution_count": 3,
      "metadata": {},
      "outputs": [
        {
          "data": {
            "text/plain": [
              "np.int64(202728)"
            ]
          },
          "execution_count": 3,
          "metadata": {},
          "output_type": "execute_result"
        }
      ],
      "source": [
        "acs[\"RNTP\"].isna().sum()"
      ]
    },
    {
      "cell_type": "markdown",
      "metadata": {},
      "source": [
        "Repeat for the `\"VALP\"` column. (If you want, you can compute both totals simultaneously.)\n",
        "\n",
        "Print out the total number of rows in the `acs` table. What do you notice about the total number of rows and the sum of the missing values for these two columns?\n",
        "\n"
      ]
    },
    {
      "cell_type": "code",
      "execution_count": 4,
      "metadata": {},
      "outputs": [
        {
          "name": "stdout",
          "output_type": "stream",
          "text": [
            "97644\n",
            "276632\n",
            "300372\n"
          ]
        }
      ],
      "source": [
        "print(acs[\"VALP\"].isna().sum())\n",
        "print(len(acs))\n",
        "\n",
        "print(acs[\"VALP\"].isna().sum() + acs[\"RNTP\"].isna().sum())\n",
        "\n",
        "# it is greater than the length of the dataset, so there are some rows that have both VALP and RNTP missing"
      ]
    },
    {
      "cell_type": "markdown",
      "metadata": {},
      "source": [
        "\n",
        "\n",
        "### Q1.b\n",
        "\n",
        "Write a single line of code that proves that 100% of observations are missing either the `\"VALP\"` or `\"RNTP\"` measurements.\n",
        "\n"
      ]
    },
    {
      "cell_type": "code",
      "execution_count": 5,
      "metadata": {},
      "outputs": [
        {
          "data": {
            "text/plain": [
              "np.True_"
            ]
          },
          "execution_count": 5,
          "metadata": {},
          "output_type": "execute_result"
        }
      ],
      "source": [
        "(acs[\"VALP\"].isna() | acs[\"RNTP\"].isna()).all()"
      ]
    },
    {
      "cell_type": "markdown",
      "metadata": {},
      "source": [
        "\n",
        "### Q1.c\n",
        "\n",
        "The `.dropna()` method has a `subset = ['column1', 'column2']` argument that allows you to indicate which columns your want to use to control how rows are dropped from the result.\n",
        "\n",
        "Create a table called `owners` that only includes households that have non-missing `\"VALP\"` entries. Print out the number of rows in this table and verify it matches the number of observations with *non-missing* `\"VALP\"` entries in `acs`. Hint:"
      ]
    },
    {
      "cell_type": "code",
      "execution_count": 6,
      "metadata": {},
      "outputs": [
        {
          "name": "stdout",
          "output_type": "stream",
          "text": [
            "178988\n",
            "178988\n"
          ]
        }
      ],
      "source": [
        "hint = pd.Series([True, False, False, True])\n",
        "~ hint\n",
        "\n",
        "owners = acs.dropna(subset=['VALP'])\n",
        "print(len(owners))\n",
        "print(len(acs) - acs[\"VALP\"].isna().sum())"
      ]
    },
    {
      "cell_type": "markdown",
      "metadata": {},
      "source": [
        "### Q1.d\n",
        "\n",
        "Using the `owners` table, what **proportion** of rows are missing `\"HINCP\"` values?\n",
        "\n",
        "Find the median value of the non-missing values (hint: built in Panadas methods automatically drop missing values).\n",
        "\n",
        "Using the `.fillna(VALUE, inplace = TRUE)` method, update the `\"HINCP\"` column of the `owners` table by making any missing values equal to median of the non-missing values.\n",
        "\n",
        "Verify by showing that all of the values are not missing for `\"HINCP\"`.\n",
        "\n"
      ]
    },
    {
      "cell_type": "code",
      "execution_count": 7,
      "metadata": {},
      "outputs": [
        {
          "name": "stdout",
          "output_type": "stream",
          "text": [
            "0.01331932867007844\n",
            "75000.0\n",
            "0\n"
          ]
        }
      ],
      "source": [
        "print(owners[\"HINCP\"].isna().mean()) #proportion of missing values in HINCP\n",
        "\n",
        "\n",
        "median_hincp = owners[\"HINCP\"].median()\n",
        "print(owners[\"HINCP\"].median()) #median\n",
        "\n",
        "\n",
        "owners[\"HINCP\"].fillna(median_hincp, inplace=True) #filling missing values with median\n",
        "\n",
        "print(owners['HINCP'].isna().sum()) #check"
      ]
    },
    {
      "cell_type": "markdown",
      "metadata": {},
      "source": [
        "\n",
        "\n",
        "### Q1.e\n",
        "\n",
        "Repeat the above steps to create a table `renters` that contains only rows for people who are renting (have non-missing `RNTP` values) and median impute any missing `HINCP` values.\n",
        "\n",
        "For both `owners` and `renters` compute the following quantities for the \"HINCP\" column.\n",
        "- mean\n",
        "- median\n",
        "- IQR\n",
        "- standard deviation\n",
        "\n",
        "Which group has the higher location values? Which group has more spread? Comment briefly on what this means.\n",
        "\n",
        "\n"
      ]
    },
    {
      "cell_type": "code",
      "execution_count": 8,
      "metadata": {},
      "outputs": [
        {
          "name": "stdout",
          "output_type": "stream",
          "text": [
            "owners\n",
            "103101.59041946946\n",
            "75000.0\n",
            "85100.0\n",
            "107811.39422510703\n",
            "\n",
            "renters\n",
            "56607.35456808833\n",
            "40000.0\n",
            "49600.0\n",
            "64594.46491847602\n"
          ]
        }
      ],
      "source": [
        "renters = acs.dropna(subset=['RNTP'])\n",
        "median_hincp_renters = renters[\"HINCP\"].median()\n",
        "renters[\"HINCP\"].fillna(median_hincp_renters, inplace=True) # set up table\n",
        "\n",
        "#owners\n",
        "print(\"owners\")\n",
        "print(owners[\"HINCP\"].mean())\n",
        "print(owners[\"HINCP\"].median())\n",
        "print(owners[\"HINCP\"].quantile(0.75) - owners[\"HINCP\"].quantile(0.25))\n",
        "print(owners[\"HINCP\"].std())\n",
        "\n",
        "print(\"\")\n",
        "\n",
        "# renters\n",
        "print(\"renters\")\n",
        "print(renters[\"HINCP\"].mean())\n",
        "print(renters[\"HINCP\"].median())\n",
        "print(renters[\"HINCP\"].quantile(0.75) - renters[\"HINCP\"].quantile(0.25))\n",
        "print(renters[\"HINCP\"].std())\n",
        "\n",
        "# owners have higher location values and higher standard deviation (spread) than renters\n",
        "# owners tend to have more money than renters / invest more in something they are going to live in permanently\n",
        "# there is higher variety in the house market than in the rental market (more expensie houses and more cheap houses - necessity of needing a place to live)"
      ]
    },
    {
      "cell_type": "markdown",
      "metadata": {},
      "source": [
        "\n",
        "## Question 2: More on distributions\n",
        "\n",
        "### Q2.a Distributions of number of people in the household\n",
        "\n",
        "Create a histogram of the number of people in the household (`NP`) for the `acs` data. Use the `bins` argument to create a histogram with 20 bins. Briefly discuss the location, spread, and skew of the distribution.\n"
      ]
    },
    {
      "cell_type": "code",
      "execution_count": 11,
      "metadata": {},
      "outputs": [
        {
          "data": {
            "text/plain": [
              "<Axes: xlabel='NP', ylabel='Count'>"
            ]
          },
          "execution_count": 11,
          "metadata": {},
          "output_type": "execute_result"
        },
        {
          "data": {
            "image/png": "[encoded data removed]",
            "text/plain": [
              "<Figure size 640x480 with 1 Axes>"
            ]
          },
          "metadata": {},
          "output_type": "display_data"
        }
      ],
      "source": [
        "\n",
        "sb.histplot(data = acs, x = \"NP\", bins=20)\n"
      ]
    },
    {
      "cell_type": "markdown",
      "metadata": {},
      "source": [
        "- The distribution is skewed right\n",
        "- It is a very small skew\n",
        "- The the spread of the data is small\n",
        "- Average value is around 2.5 NP\n"
      ]
    },
    {
      "cell_type": "markdown",
      "metadata": {},
      "source": [
        "\n",
        "### Q2.b Summaries of `NP`\n",
        "\n",
        "Check your answers to the previous question by computing the mean, median, IQR, standard deviation, quantile skewness using the 0.25 and 0.75 quantile, and the coefficient of skewness of the `NP` column.\n"
      ]
    },
    {
      "cell_type": "code",
      "execution_count": 55,
      "metadata": {},
      "outputs": [
        {
          "name": "stdout",
          "output_type": "stream",
          "text": [
            "Mean: 2.208764712686891\n",
            "Median: 2.0\n",
            "IQR: 2.0\n",
            "Standard Deviation: 1.5263892280571307\n",
            "Quantile Skewness 0.5\n",
            "Coefficient of Skewness: 1.129330534996136\n"
          ]
        }
      ],
      "source": [
        "print(\"Mean:\", acs[\"NP\"].mean())\n",
        "print(\"Median:\", acs[\"NP\"].median())\n",
        "print(\"IQR:\", acs[\"NP\"].quantile(0.75) - acs[\"NP\"].quantile(0.25))\n",
        "print(\"Standard Deviation:\", acs[\"NP\"].std())\n",
        "print(\"Quantile Skewness\", (acs[\"NP\"].quantile(0.75) - acs[\"NP\"].median()) - (acs[\"NP\"].median() - acs[\"NP\"].quantile(0.25)) / (acs[\"NP\"].quantile(0.75) - acs[\"NP\"].quantile(0.25)))\n",
        "print(\"Coefficient of Skewness:\", sum((acs[\"NP\"] - acs[\"NP\"].mean())**3) / len(acs) / acs[\"NP\"].std()**3)\n"
      ]
    },
    {
      "cell_type": "markdown",
      "metadata": {},
      "source": [
        "\n",
        "### Q2.c Comparing conditional distribution of NP for owners and renters\n",
        "\n",
        "Create a side-by-side boxplot of the number of people in the household for owners and renters. What do you notice about the distributions of the number of people in the household for owners and renters?\n"
      ]
    },
    {
      "cell_type": "code",
      "execution_count": null,
      "metadata": {},
      "outputs": [],
      "source": []
    },
    {
      "cell_type": "markdown",
      "metadata": {},
      "source": [
        "\n",
        "### Q2.d Effect size of the difference in means\n",
        "\n",
        "Compute the effect size of the difference in means of the number of people in the household for owners and renters. Use the formula for Cohen's $d$\n",
        "\n",
        "$$d = \\frac{\\bar X_1 - \\bar X_2}{S_p}$$\n",
        "\n",
        "where $\\bar X_1$ and $\\bar X_2$ are the means of the two groups and $S_p$ is the pooled standard deviation.\n",
        "\n",
        "Using the following table of effect sizes, how would you interpret the effect size of the difference in means of the number of people in the household for owners and renters?\n",
        "\n",
        "| Effect size | Interpretation |\n",
        "|-------------|-----------------|\n",
        "| (0, 0.2]    | Small           |\n",
        "| (0.2, 0.5]  | Medium          |\n",
        "| (0.5, 0.1]  | Large           |\n",
        "| (1, 2]      | Very large      |\n",
        "\n"
      ]
    },
    {
      "cell_type": "code",
      "execution_count": 62,
      "metadata": {},
      "outputs": [
        {
          "name": "stdout",
          "output_type": "stream",
          "text": [
            "effect size: 0.20477751312029022\n"
          ]
        }
      ],
      "source": [
        "mean_owners = owners[\"NP\"].mean()\n",
        "mean_renters = renters[\"NP\"].mean()\n",
        "\n",
        "std_owners = owners[\"NP\"].std()\n",
        "std_renters = renters[\"NP\"].std()\n",
        "\n",
        "n_owners = len(owners)\n",
        "n_renters = len(renters)\n",
        "\n",
        "# Pooled standard deviation\n",
        "pooled_std = np.sqrt(((n_owners - 1) * std_owners**2 + (n_renters - 1) * std_renters**2) / (n_owners + n_renters - 2))\n",
        "\n",
        "cohens_d = (mean_owners - mean_renters) / pooled_std\n",
        "\n",
        "print(\"effect size:\", cohens_d)\n",
        "# there is a medium (somewhat) relationship between number of people in a household for owners and renters"
      ]
    },
    {
      "cell_type": "markdown",
      "metadata": {},
      "source": [
        "\n",
        "\n",
        "## Question 3: More on means and medians\n",
        "\n",
        "For this problem, we will investigate some theoretical properties of means and medians.\n",
        "\n",
        "### Q3.a\n",
        "\n",
        "We have already seen that the mean is the unique point $\\bar X$ that makes $\\sum_{i=1}^n (X_i - \\bar X) = 0$. While we didn't introduce it as such, it is also the case that $\\bar X$ is the point that **minimizes** $\\sum_{i=1}^n (X_i - \\bar X)^2$, the sum of squared deviations.\n",
        "\n",
        "Using the `HINCP` column of the `acs` data, demonstrate that the sum of squared deviations from the mean is less than the sum of squared deviations from the median ($\\sum_{i=1}^n (X_i - \\tilde X)^2$).\n",
        "\n",
        "Recall that `x**2` is how we square things in Python."
      ]
    },
    {
      "cell_type": "code",
      "execution_count": 57,
      "metadata": {},
      "outputs": [
        {
          "name": "stdout",
          "output_type": "stream",
          "text": [
            "Sum of squared deviations from the mean: 2514930676893640.5\n",
            "Sum of squared deviations from the median: 2693213854216370.0\n",
            "Difference -178283177322729.5\n"
          ]
        }
      ],
      "source": [
        "print(\"Sum of squared deviations from the mean:\", ((acs[\"HINCP\"] - acs[\"HINCP\"].mean()) ** 2).sum())\n",
        "print(\"Sum of squared deviations from the median:\", ((acs[\"HINCP\"] - acs[\"HINCP\"].median()) ** 2).sum())\n",
        "print(\"Difference\", ((acs[\"HINCP\"] - acs[\"HINCP\"].mean()) ** 2).sum() - ((acs[\"HINCP\"] - acs[\"HINCP\"].median()) ** 2).sum())\n",
        "# negative so less (verified)\n"
      ]
    },
    {
      "cell_type": "markdown",
      "metadata": {},
      "source": [
        "### Q3.b\n",
        "\n",
        "Now, using $\\bar X$ and $\\tilde X$, compute the **sum of absolute distances**, $\\sum_{i=1}^n | X_i - \\bar X |$ and $\\sum_{i=1}^n |X_i - \\tilde X|$. Recall the `.abs()` method can compute the absolute value of a series."
      ]
    },
    {
      "cell_type": "code",
      "execution_count": 58,
      "metadata": {},
      "outputs": [
        {
          "name": "stdout",
          "output_type": "stream",
          "text": [
            "Sum of absolute distances from the mean: 15613409566.75057\n",
            "Sum of absolute distances from the median: 14508223606.0\n"
          ]
        }
      ],
      "source": [
        "sum_absolute_distances_mean = (acs[\"HINCP\"] - acs[\"HINCP\"].mean()).abs().sum()\n",
        "sum_absolute_distances_median = (acs[\"HINCP\"] - acs[\"HINCP\"].median()).abs().sum()\n",
        "\n",
        "print(\"Sum of absolute distances from the mean:\", sum_absolute_distances_mean)\n",
        "print(\"Sum of absolute distances from the median:\", sum_absolute_distances_median)"
      ]
    },
    {
      "cell_type": "markdown",
      "metadata": {},
      "source": [
        "### Q3.c\n",
        "\n",
        "While we are not rising to the level of a mathematical proof, what do these result suggest about which type of measure of location would minimize the sum of absolute differences?\n"
      ]
    },
    {
      "cell_type": "code",
      "execution_count": 59,
      "metadata": {},
      "outputs": [
        {
          "name": "stdout",
          "output_type": "stream",
          "text": [
            "Difference: 1105185960.7505703\n"
          ]
        }
      ],
      "source": [
        "print(\"Difference:\", sum_absolute_distances_mean - sum_absolute_distances_median)\n",
        "#positive so median is smaller"
      ]
    },
    {
      "cell_type": "markdown",
      "metadata": {},
      "source": [
        "Results suggest that using the median would minimize the sum of absolute differences"
      ]
    }
  ],
  "metadata": {
    "kernelspec": {
      "display_name": "Python 3",
      "language": "python",
      "name": "python3"
    },
    "language_info": {
      "codemirror_mode": {
        "name": "ipython",
        "version": 3
      },
      "file_extension": ".py",
      "mimetype": "text/x-python",
      "name": "python",
      "nbconvert_exporter": "python",
      "pygments_lexer": "ipython3",
      "version": "3.12.1"
    }
  },
  "nbformat": 4,
  "nbformat_minor": 4
}
